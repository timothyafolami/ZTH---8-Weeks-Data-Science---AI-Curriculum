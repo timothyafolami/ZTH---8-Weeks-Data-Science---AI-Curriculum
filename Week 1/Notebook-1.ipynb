{
 "cells": [
  {
   "cell_type": "markdown",
   "metadata": {},
   "source": [
    "## Today's Focus\n",
    "\n",
    "### Day 2: Control Flow and Functions (2 hrs)\n",
    "\n",
    "- Understanding conditional statements and loops\n",
    "- Writing and defining functions\n",
    "- Importing and using modules\n",
    "- Basic hands-on exercises to reinforce concepts"
   ]
  },
  {
   "cell_type": "markdown",
   "metadata": {},
   "source": [
    "## Questions:\n",
    "-   What are conditional statements and loops?\n",
    "-   What are functions and how are they used?\n",
    "\n",
    "### Answers \n",
    "\n",
    "#### Conditional Statements\n",
    "\n",
    "- Conditional statements are programming constructs that allow the execution of different blocks of code based on whether a specified condition evaluates to true or false. In Python, the primary conditional statements are:\n",
    "-   if statement: Executes a block of code if a specified condition is true.\n",
    "-   else statement: Executes a block of code if the preceding if condition is false.\n",
    "-   elif statement: Stands for \"else if\" and allows for the evaluation of additional conditions after an initial if statement.\n",
    "\n",
    "\n",
    "\n",
    "#### Loops\n",
    "- Loops in programming allow you to repeat a block of code multiple times. The two main types of loops in Python are:\n",
    "\n",
    "- for loop: Iterates over a sequence (such as a list, tuple, or string) or other iterable objects.\n",
    "- while loop: Repeatedly executes a block of code as long as a specified condition is true.\n",
    "\n",
    "\n",
    "#### Functions\n",
    "\n",
    "- In programming, a function is a reusable block of code that performs a specific task or set of tasks. Functions are used to organize code into modular and manageable pieces, promoting reusability and maintainability. In Python, a function is defined using the def keyword, followed by the function name, parameters (if any), a colon, and the function body.\n",
    "\n",
    "##### Key Concepts:\n",
    "\n",
    "- Parameters: Input values passed to a function.\n",
    "- Return Statement: Specifies the value the function should return to the caller.\n",
    "- Scope: The region of the code where a variable is accessible. Functions create their own scope, and variables defined within a function are typically local to that function.\n",
    "- Functions help to break down complex problems into simpler, more manageable parts, making code more readable and maintainable. They are a fundamental building block in programming and are essential for organizing and structuring code effectively."
   ]
  },
  {
   "cell_type": "markdown",
   "metadata": {},
   "source": [
    "#### Conditional Examples"
   ]
  },
  {
   "cell_type": "code",
   "execution_count": 8,
   "metadata": {},
   "outputs": [
    {
     "name": "stdout",
     "output_type": "stream",
     "text": [
      "You are legally an adult but not allowed to drink.\n"
     ]
    }
   ],
   "source": [
    "# Conditional Examples\n",
    "\n",
    "age = 23\n",
    "\n",
    "if age < 18:\n",
    "    print(\"You are a minor.\")\n",
    "elif age >= 18 and age < 21:\n",
    "    print(\"You are legally an adult but not allowed to drink.\")\n",
    "else:\n",
    "    print(\"You are a legal adult.\")\n"
   ]
  },
  {
   "cell_type": "code",
   "execution_count": 40,
   "metadata": {},
   "outputs": [
    {
     "name": "stdout",
     "output_type": "stream",
     "text": [
      "C\n",
      "A\n",
      "D\n",
      "B\n",
      "F\n"
     ]
    }
   ],
   "source": [
    "# Suppose you have a list of student grades\n",
    "grades = [75, 90, 65, 80, 50]\n",
    "\n",
    "# Using conditional statements to categorize grades\n",
    "for grade in grades:\n",
    "    if grade >= 90:\n",
    "        print(\"A\")\n",
    "    elif grade >= 80:\n",
    "        print(\"B\")\n",
    "    elif grade >= 70:\n",
    "        print(\"C\")\n",
    "    elif grade >= 60:\n",
    "        print(\"D\")\n",
    "    else:\n",
    "        print(\"F\")\n"
   ]
  },
  {
   "cell_type": "code",
   "execution_count": 17,
   "metadata": {},
   "outputs": [
    {
     "name": "stdout",
     "output_type": "stream",
     "text": [
      "[0, 4, 16, 36, 64, 100, 144, 196, 256, 324]\n"
     ]
    }
   ],
   "source": [
    "# List comprehension to create a list of squares\n",
    "squares = [x**2 for x in range(19) if x % 2 == 0]\n",
    "\n",
    "print(squares)"
   ]
  },
  {
   "cell_type": "code",
   "execution_count": 16,
   "metadata": {},
   "outputs": [
    {
     "data": {
      "text/plain": [
       "range(0, 19)"
      ]
     },
     "execution_count": 16,
     "metadata": {},
     "output_type": "execute_result"
    }
   ],
   "source": [
    "range(19)"
   ]
  },
  {
   "cell_type": "code",
   "execution_count": 19,
   "metadata": {},
   "outputs": [
    {
     "name": "stdout",
     "output_type": "stream",
     "text": [
      "[0, 4, 16, 36, 64, 100, 144, 196, 256, 324]\n"
     ]
    }
   ],
   "source": [
    "squares = []\n",
    "for x in range(19):\n",
    "    if x % 2 == 0:\n",
    "        squares.append(x**2)\n",
    "    # else:\n",
    "    #     squares.append(x**3)\n",
    "\n",
    "print(squares)"
   ]
  },
  {
   "cell_type": "code",
   "execution_count": 22,
   "metadata": {},
   "outputs": [
    {
     "name": "stdout",
     "output_type": "stream",
     "text": [
      "Charlie is 22 years old\n"
     ]
    }
   ],
   "source": [
    "# Using zip to iterate over two lists simultaneously\n",
    "names = [\"Alice\", \"Bob\", \"Charlie\"]\n",
    "ages = [25, 30, 22]\n",
    "for name, age in zip(names, ages):\n",
    "    if age<=25 and name != \"Alice\":\n",
    "        print(f\"{name} is {age} years old\")\n",
    "    \n"
   ]
  },
  {
   "cell_type": "code",
   "execution_count": 26,
   "metadata": {},
   "outputs": [
    {
     "name": "stdout",
     "output_type": "stream",
     "text": [
      "Alice was born in 2010 and is 1 years old\n",
      "Bob was born in 2011 and is 2 years old\n",
      "Charlie was born in 2012 and is 3 years old\n",
      "David was born in 2013 and is 4 years old\n",
      "Eve was born in 2014 and is 5 years old\n",
      "Fred was born in 2015 and is 6 years old\n",
      "Gina was born in 2016 and is 7 years old\n",
      "Helen was born in 2017 and is 8 years old\n",
      "Ivan was born in 2018 and is 9 years old\n",
      "John was born in 2019 and is 10 years old\n"
     ]
    }
   ],
   "source": [
    "date = [1,2,3,4,5,6,7,8,9,10]\n",
    "names = [\"Alice\", \"Bob\", \"Charlie\", \"David\", \"Eve\", \"Fred\", \"Gina\", \"Helen\", \"Ivan\", \"John\"]\n",
    "year = [2010,2011,2012,2013,2014,2015,2016,2017,2018,2019]\n",
    "\n",
    "for date, names, year in zip(date, names, year):\n",
    "    if year == 2015:\n",
    "        print(f\"{names} was born in {year} and is {date} years old\")\n",
    "    elif year == 2016:\n",
    "        print(f\"{names} was born in {year} and is {date} years old\")\n",
    "    elif year == 2017:\n",
    "        print(f\"{names} was born in {year} and is {date} years old\")\n",
    "    elif year == 2018:\n",
    "        print(f\"{names} was born in {year} and is {date} years old\")\n",
    "    elif year == 2019:\n",
    "        print(f\"{names} was born in {year} and is {date} years old\")\n",
    "    else:\n",
    "        print(f\"{names} was born in {year} and is {date} years old\")\n",
    "\n"
   ]
  },
  {
   "cell_type": "markdown",
   "metadata": {},
   "source": [
    "date, names, years - 1, Alice, 2010. "
   ]
  },
  {
   "cell_type": "code",
   "execution_count": 24,
   "metadata": {},
   "outputs": [
    {
     "name": "stdout",
     "output_type": "stream",
     "text": [
      "1\n",
      "2\n",
      "3\n",
      "4\n",
      "5\n",
      "6\n",
      "7\n"
     ]
    }
   ],
   "source": [
    "for k in range(1, 8):\n",
    "    print(k)"
   ]
  },
  {
   "cell_type": "code",
   "execution_count": 34,
   "metadata": {},
   "outputs": [
    {
     "name": "stdout",
     "output_type": "stream",
     "text": [
      "['apple', 'banana', 'cherry']\n",
      "Index 0: apple\n",
      "Index 1: banana\n",
      "Index 2: cherry\n"
     ]
    }
   ],
   "source": [
    "# Enumerate for iterating over elements and their indices\n",
    "fruits = [\"apple\", \"banana\", \"cherry\"]\n",
    "print(fruits)\n",
    "for id, fruit in enumerate(fruits):\n",
    "    print(f\"Index {id}: {fruit}\")\n"
   ]
  },
  {
   "cell_type": "markdown",
   "metadata": {},
   "source": [
    "### Function Examples"
   ]
  },
  {
   "cell_type": "code",
   "execution_count": 35,
   "metadata": {},
   "outputs": [
    {
     "name": "stdout",
     "output_type": "stream",
     "text": [
      "25\n"
     ]
    }
   ],
   "source": [
    "# Function to calculate the square of a number\n",
    "def square(number):\n",
    "    return number ** 2\n",
    "\n",
    "# Using the function\n",
    "result = square(5)\n",
    "print(result)  # Output: 25\n"
   ]
  },
  {
   "cell_type": "code",
   "execution_count": 36,
   "metadata": {},
   "outputs": [
    {
     "name": "stdout",
     "output_type": "stream",
     "text": [
      "[1, 4, 9, 16, 25, 36, 49, 64, 81, 100, 121, 144, 169, 196, 225, 256, 289, 324, 361, 400]\n"
     ]
    }
   ],
   "source": [
    "twenty_square = [square(x) for x in range(1, 21)]\n",
    "print(twenty_square)"
   ]
  },
  {
   "cell_type": "code",
   "execution_count": 1,
   "metadata": {},
   "outputs": [
    {
     "name": "stdout",
     "output_type": "stream",
     "text": [
      "The average grade is: 72.0\n"
     ]
    }
   ],
   "source": [
    "# Function to calculate the average of a list of numbers\n",
    "def calculate_average(numbers):\n",
    "    total = sum(numbers)\n",
    "    count = len(numbers)\n",
    "    \n",
    "    if count == 0:\n",
    "        return 0  # Avoid division by zero\n",
    "    \n",
    "    average = total / count\n",
    "    return average\n",
    "\n",
    "# Using the function\n",
    "grades = [75, 90, 65, 80, 50]\n",
    "average_grade = calculate_average(grades)\n",
    "\n",
    "print(f\"The average grade is: {average_grade}\")\n"
   ]
  },
  {
   "cell_type": "code",
   "execution_count": 2,
   "metadata": {},
   "outputs": [
    {
     "name": "stdout",
     "output_type": "stream",
     "text": [
      "Hello, Alice!\n",
      "Good morning, Bob!\n"
     ]
    }
   ],
   "source": [
    "# Default arguments in a function\n",
    "def greet(name, greeting=\"Hello\"):\n",
    "    print(f\"{greeting}, {name}!\")\n",
    "\n",
    "greet(\"Alice\")  # Prints: Hello, Alice!\n",
    "greet(\"Bob\", \"Good morning\")  # Prints: Good morning, Bob!\n",
    "\n"
   ]
  },
  {
   "cell_type": "code",
   "execution_count": 4,
   "metadata": {},
   "outputs": [
    {
     "name": "stdout",
     "output_type": "stream",
     "text": [
      "Good evening, Sharon!\n",
      "Hello, Satyashree!\n"
     ]
    }
   ],
   "source": [
    "greet(\"Sharon\", \"Good evening\")\n",
    "greet(\"Satyashree\")"
   ]
  },
  {
   "cell_type": "code",
   "execution_count": 9,
   "metadata": {},
   "outputs": [
    {
     "name": "stdout",
     "output_type": "stream",
     "text": [
      "8\n"
     ]
    }
   ],
   "source": [
    "# Lambda function for a quick calculation\n",
    "add = lambda x, y, z: x + y\n",
    "result = add(5, 3, 2)  # Result is 8\n",
    "print(result)"
   ]
  },
  {
   "cell_type": "code",
   "execution_count": 24,
   "metadata": {},
   "outputs": [],
   "source": [
    "# Closure example\n",
    "def outer_function(x):\n",
    "    def inner_function(y):\n",
    "        return x + y\n",
    "    return inner_function\n",
    "\n",
    "closure_example = outer_function(10)\n",
    "closure_result = closure_example(5) "
   ]
  },
  {
   "cell_type": "code",
   "execution_count": 25,
   "metadata": {},
   "outputs": [
    {
     "name": "stdout",
     "output_type": "stream",
     "text": [
      "15\n"
     ]
    }
   ],
   "source": [
    "print(closure_result)  # Prints 15"
   ]
  },
  {
   "cell_type": "code",
   "execution_count": null,
   "metadata": {},
   "outputs": [],
   "source": []
  }
 ],
 "metadata": {
  "kernelspec": {
   "display_name": "base",
   "language": "python",
   "name": "python3"
  },
  "language_info": {
   "codemirror_mode": {
    "name": "ipython",
    "version": 3
   },
   "file_extension": ".py",
   "mimetype": "text/x-python",
   "name": "python",
   "nbconvert_exporter": "python",
   "pygments_lexer": "ipython3",
   "version": "3.11.5"
  }
 },
 "nbformat": 4,
 "nbformat_minor": 2
}
